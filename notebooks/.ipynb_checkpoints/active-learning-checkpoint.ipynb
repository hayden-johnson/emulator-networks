{
 "cells": [
  {
   "cell_type": "code",
   "execution_count": 38,
   "id": "22f0bf39-dba7-4ef0-9eaa-12458aecc985",
   "metadata": {},
   "outputs": [],
   "source": [
    "import sbi \n",
    "import numpy as np\n",
    "import torch as th \n",
    "import matplotlib.pyplot as plt \n",
    "\n",
    "from sbi.analysis import pairplot\n",
    "from sbi.inference import NPE, NLE\n",
    "from sbi.utils import BoxUniform\n",
    "from sbi.utils.user_input_checks import (\n",
    "    check_sbi_inputs,\n",
    "    process_prior,\n",
    "    process_simulator,\n",
    ")\n",
    "\n",
    "from sbi.inference.posteriors.ensemble_posterior import EnsemblePosterior\n",
    "from sbi.utils.simulation_utils import simulate_for_sbi\n",
    "\n",
    "from emnets.simulator import gaussian_simulator"
   ]
  },
  {
   "cell_type": "code",
   "execution_count": 39,
   "id": "63820ab3-9dd3-46aa-961e-98b997be9894",
   "metadata": {},
   "outputs": [
    {
     "data": {
      "image/png": "[encoded data removed]",
      "text/plain": [
       "<Figure size 600x400 with 1 Axes>"
      ]
     },
     "metadata": {},
     "output_type": "display_data"
    }
   ],
   "source": [
    "fig, ax = plt.subplots(figsize=(6, 4))\n",
    "\n",
    "x_obs = 2\n",
    "\n",
    "for theta in np.linspace(-8, 8, 100):\n",
    "    x = gaussian_simulator(theta, n=10)\n",
    "    ax.scatter(theta.repeat(len(x)), x, c='black', alpha=.1, s=3)\n",
    "    ax.set_xlabel(r'$\\theta$')\n",
    "    ax.set_ylabel(r'$x$')\n",
    "\n",
    "    plt.plot([-8, 8],[x_obs, x_obs], color='red', linewidth=.1, alpha=.1)\n",
    "\n",
    "plt.show()"
   ]
  },
  {
   "cell_type": "code",
   "execution_count": 40,
   "id": "753ef79f-4bd3-4934-94bd-7789cdb7ed30",
   "metadata": {},
   "outputs": [
    {
     "data": {
      "text/plain": [
       "tensor([2.5000])"
      ]
     },
     "execution_count": 40,
     "metadata": {},
     "output_type": "execute_result"
    }
   ],
   "source": [
    "x_o"
   ]
  },
  {
   "cell_type": "code",
   "execution_count": 33,
   "id": "9bad2177-d6dd-4720-bbfe-121cb731d1d5",
   "metadata": {},
   "outputs": [
    {
     "name": "stderr",
     "output_type": "stream",
     "text": [
      "/var/folders/f3/d5xwhmfs3tz1mx_rvf_24qb80000gn/T/ipykernel_61286/2616942318.py:1: UserWarning: `.log_prob()` is deprecated for methods that can only evaluate the log-probability up to a normalizing constant. Use `.potential()` instead.\n",
      "  ensemble[0].log_prob(theta[:5], x_o)\n",
      "/var/folders/f3/d5xwhmfs3tz1mx_rvf_24qb80000gn/T/ipykernel_61286/2616942318.py:1: UserWarning: The log-probability is unnormalized!\n",
      "  ensemble[0].log_prob(theta[:5], x_o)\n"
     ]
    },
    {
     "data": {
      "text/plain": [
       "tensor([-8.1152, -4.9271, -9.5445, -6.0461, -9.8086])"
      ]
     },
     "execution_count": 33,
     "metadata": {},
     "output_type": "execute_result"
    }
   ],
   "source": [
    "ensemble[0].log_prob(theta[:5], x_o)"
   ]
  },
  {
   "cell_type": "code",
   "execution_count": 36,
   "id": "60e53c7e-14dc-4321-b69a-79a5340a8881",
   "metadata": {},
   "outputs": [
    {
     "name": "stdout",
     "output_type": "stream",
     "text": [
      " Neural network successfully converged after 38 epochs.."
     ]
    },
    {
     "data": {
      "application/vnd.jupyter.widget-view+json": {
       "model_id": "267eed8fbe534624a8c119f5c76cdf71",
       "version_major": 2,
       "version_minor": 0
      },
      "text/plain": [
       "Running vectorized MCMC with 20 chains:   0%|          | 0/5040 [00:00<?, ?it/s]"
      ]
     },
     "metadata": {},
     "output_type": "display_data"
    },
    {
     "data": {
      "application/vnd.jupyter.widget-view+json": {
       "model_id": "efa5e73ab0f34d7485b7828e82baa7e6",
       "version_major": 2,
       "version_minor": 0
      },
      "text/plain": [
       "Running vectorized MCMC with 20 chains:   0%|          | 0/5040 [00:00<?, ?it/s]"
      ]
     },
     "metadata": {},
     "output_type": "display_data"
    },
    {
     "data": {
      "application/vnd.jupyter.widget-view+json": {
       "model_id": "9cb931c2e4904ce0ac7817743ecdbec1",
       "version_major": 2,
       "version_minor": 0
      },
      "text/plain": [
       "Running vectorized MCMC with 20 chains:   0%|          | 0/5040 [00:00<?, ?it/s]"
      ]
     },
     "metadata": {},
     "output_type": "display_data"
    },
    {
     "name": "stderr",
     "output_type": "stream",
     "text": [
      "/var/folders/f3/d5xwhmfs3tz1mx_rvf_24qb80000gn/T/ipykernel_61286/1183755147.py:42: UserWarning: `.log_prob()` is deprecated for methods that can only evaluate the log-probability up to a normalizing constant. Use `.potential()` instead.\n",
      "  likelihood_matrix = np.array([e.log_prob(theta_prop, x_o).numpy() for e in ensemble])\n",
      "/var/folders/f3/d5xwhmfs3tz1mx_rvf_24qb80000gn/T/ipykernel_61286/1183755147.py:42: UserWarning: The log-probability is unnormalized!\n",
      "  likelihood_matrix = np.array([e.log_prob(theta_prop, x_o).numpy() for e in ensemble])\n"
     ]
    },
    {
     "name": "stdout",
     "output_type": "stream",
     "text": [
      " Neural network successfully converged after 73 epochs.."
     ]
    },
    {
     "data": {
      "application/vnd.jupyter.widget-view+json": {
       "model_id": "7026187d75ff45e19854dab6e0c26e35",
       "version_major": 2,
       "version_minor": 0
      },
      "text/plain": [
       "Running vectorized MCMC with 20 chains:   0%|          | 0/5040 [00:00<?, ?it/s]"
      ]
     },
     "metadata": {},
     "output_type": "display_data"
    },
    {
     "data": {
      "application/vnd.jupyter.widget-view+json": {
       "model_id": "dea5293708e149c7b419d233363b4884",
       "version_major": 2,
       "version_minor": 0
      },
      "text/plain": [
       "Running vectorized MCMC with 20 chains:   0%|          | 0/5040 [00:00<?, ?it/s]"
      ]
     },
     "metadata": {},
     "output_type": "display_data"
    },
    {
     "data": {
      "application/vnd.jupyter.widget-view+json": {
       "model_id": "b2e169fac1914d39a796bdf323f26825",
       "version_major": 2,
       "version_minor": 0
      },
      "text/plain": [
       "Running vectorized MCMC with 20 chains:   0%|          | 0/5040 [00:00<?, ?it/s]"
      ]
     },
     "metadata": {},
     "output_type": "display_data"
    },
    {
     "name": "stdout",
     "output_type": "stream",
     "text": [
      " Neural network successfully converged after 131 epochs."
     ]
    },
    {
     "data": {
      "application/vnd.jupyter.widget-view+json": {
       "model_id": "d9cc47d2dff143c2a13f97b2a2e1bba7",
       "version_major": 2,
       "version_minor": 0
      },
      "text/plain": [
       "Running vectorized MCMC with 20 chains:   0%|          | 0/5040 [00:00<?, ?it/s]"
      ]
     },
     "metadata": {},
     "output_type": "display_data"
    },
    {
     "data": {
      "application/vnd.jupyter.widget-view+json": {
       "model_id": "5f2e56cfdbc447629a937c35acd0512b",
       "version_major": 2,
       "version_minor": 0
      },
      "text/plain": [
       "Running vectorized MCMC with 20 chains:   0%|          | 0/5040 [00:00<?, ?it/s]"
      ]
     },
     "metadata": {},
     "output_type": "display_data"
    },
    {
     "data": {
      "application/vnd.jupyter.widget-view+json": {
       "model_id": "7d0f1afa1dad434a8d6f19de1cbb468d",
       "version_major": 2,
       "version_minor": 0
      },
      "text/plain": [
       "Running vectorized MCMC with 20 chains:   0%|          | 0/5040 [00:00<?, ?it/s]"
      ]
     },
     "metadata": {},
     "output_type": "display_data"
    },
    {
     "name": "stdout",
     "output_type": "stream",
     "text": [
      " Neural network successfully converged after 24 epochs."
     ]
    },
    {
     "data": {
      "application/vnd.jupyter.widget-view+json": {
       "model_id": "e17d535f38ad49229943cedb86502abc",
       "version_major": 2,
       "version_minor": 0
      },
      "text/plain": [
       "Running vectorized MCMC with 20 chains:   0%|          | 0/5040 [00:00<?, ?it/s]"
      ]
     },
     "metadata": {},
     "output_type": "display_data"
    },
    {
     "data": {
      "application/vnd.jupyter.widget-view+json": {
       "model_id": "b03c82d8650240baa11f7d599575502b",
       "version_major": 2,
       "version_minor": 0
      },
      "text/plain": [
       "Running vectorized MCMC with 20 chains:   0%|          | 0/5040 [00:00<?, ?it/s]"
      ]
     },
     "metadata": {},
     "output_type": "display_data"
    },
    {
     "data": {
      "application/vnd.jupyter.widget-view+json": {
       "model_id": "5fb1c13a1e4f4091854b5489ee41d458",
       "version_major": 2,
       "version_minor": 0
      },
      "text/plain": [
       "Running vectorized MCMC with 20 chains:   0%|          | 0/5040 [00:00<?, ?it/s]"
      ]
     },
     "metadata": {},
     "output_type": "display_data"
    },
    {
     "name": "stdout",
     "output_type": "stream",
     "text": [
      " Neural network successfully converged after 43 epochs."
     ]
    },
    {
     "data": {
      "application/vnd.jupyter.widget-view+json": {
       "model_id": "4bc0ff7bbb6f4524895f3891f7da37be",
       "version_major": 2,
       "version_minor": 0
      },
      "text/plain": [
       "Running vectorized MCMC with 20 chains:   0%|          | 0/5040 [00:00<?, ?it/s]"
      ]
     },
     "metadata": {},
     "output_type": "display_data"
    },
    {
     "data": {
      "application/vnd.jupyter.widget-view+json": {
       "model_id": "bd052c31f9b74f97b450232c90aaa308",
       "version_major": 2,
       "version_minor": 0
      },
      "text/plain": [
       "Running vectorized MCMC with 20 chains:   0%|          | 0/5040 [00:00<?, ?it/s]"
      ]
     },
     "metadata": {},
     "output_type": "display_data"
    },
    {
     "data": {
      "application/vnd.jupyter.widget-view+json": {
       "model_id": "4b8e3f03cdda4c34b51d58f25a65fe22",
       "version_major": 2,
       "version_minor": 0
      },
      "text/plain": [
       "Running vectorized MCMC with 20 chains:   0%|          | 0/5040 [00:00<?, ?it/s]"
      ]
     },
     "metadata": {},
     "output_type": "display_data"
    },
    {
     "name": "stdout",
     "output_type": "stream",
     "text": [
      " Neural network successfully converged after 24 epochs."
     ]
    },
    {
     "data": {
      "application/vnd.jupyter.widget-view+json": {
       "model_id": "516412eb4735420db9d856ff370e9adb",
       "version_major": 2,
       "version_minor": 0
      },
      "text/plain": [
       "Running vectorized MCMC with 20 chains:   0%|          | 0/5040 [00:00<?, ?it/s]"
      ]
     },
     "metadata": {},
     "output_type": "display_data"
    },
    {
     "data": {
      "application/vnd.jupyter.widget-view+json": {
       "model_id": "e19b0288faf646369f0c4a77294688bb",
       "version_major": 2,
       "version_minor": 0
      },
      "text/plain": [
       "Running vectorized MCMC with 20 chains:   0%|          | 0/5060 [00:00<?, ?it/s]"
      ]
     },
     "metadata": {},
     "output_type": "display_data"
    },
    {
     "data": {
      "application/vnd.jupyter.widget-view+json": {
       "model_id": "add1a1a39562403492e21545f1690aff",
       "version_major": 2,
       "version_minor": 0
      },
      "text/plain": [
       "Running vectorized MCMC with 20 chains:   0%|          | 0/5040 [00:00<?, ?it/s]"
      ]
     },
     "metadata": {},
     "output_type": "display_data"
    },
    {
     "name": "stdout",
     "output_type": "stream",
     "text": [
      " Neural network successfully converged after 25 epochs."
     ]
    },
    {
     "data": {
      "application/vnd.jupyter.widget-view+json": {
       "model_id": "8666adb68e664aca9174c3779a941b35",
       "version_major": 2,
       "version_minor": 0
      },
      "text/plain": [
       "Running vectorized MCMC with 20 chains:   0%|          | 0/5040 [00:00<?, ?it/s]"
      ]
     },
     "metadata": {},
     "output_type": "display_data"
    },
    {
     "data": {
      "application/vnd.jupyter.widget-view+json": {
       "model_id": "4cf728d003ee41bdb24e0f348a7c7984",
       "version_major": 2,
       "version_minor": 0
      },
      "text/plain": [
       "Running vectorized MCMC with 20 chains:   0%|          | 0/5040 [00:00<?, ?it/s]"
      ]
     },
     "metadata": {},
     "output_type": "display_data"
    },
    {
     "data": {
      "application/vnd.jupyter.widget-view+json": {
       "model_id": "b0908db11fb3475384ec17bad34ccb36",
       "version_major": 2,
       "version_minor": 0
      },
      "text/plain": [
       "Running vectorized MCMC with 20 chains:   0%|          | 0/5040 [00:00<?, ?it/s]"
      ]
     },
     "metadata": {},
     "output_type": "display_data"
    },
    {
     "name": "stdout",
     "output_type": "stream",
     "text": [
      " Neural network successfully converged after 26 epochs."
     ]
    },
    {
     "data": {
      "application/vnd.jupyter.widget-view+json": {
       "model_id": "42d288725f3943388c74c971ad7f73d5",
       "version_major": 2,
       "version_minor": 0
      },
      "text/plain": [
       "Running vectorized MCMC with 20 chains:   0%|          | 0/5040 [00:00<?, ?it/s]"
      ]
     },
     "metadata": {},
     "output_type": "display_data"
    },
    {
     "data": {
      "application/vnd.jupyter.widget-view+json": {
       "model_id": "3c548544f2ac42bf8c09fc75e1a825b5",
       "version_major": 2,
       "version_minor": 0
      },
      "text/plain": [
       "Running vectorized MCMC with 20 chains:   0%|          | 0/5040 [00:00<?, ?it/s]"
      ]
     },
     "metadata": {},
     "output_type": "display_data"
    },
    {
     "data": {
      "application/vnd.jupyter.widget-view+json": {
       "model_id": "b9ef19402805498d9903cf881bdd830b",
       "version_major": 2,
       "version_minor": 0
      },
      "text/plain": [
       "Running vectorized MCMC with 20 chains:   0%|          | 0/5040 [00:00<?, ?it/s]"
      ]
     },
     "metadata": {},
     "output_type": "display_data"
    },
    {
     "name": "stdout",
     "output_type": "stream",
     "text": [
      " Neural network successfully converged after 38 epochs."
     ]
    },
    {
     "data": {
      "application/vnd.jupyter.widget-view+json": {
       "model_id": "b72bfed9b236472c95a764100ecace0a",
       "version_major": 2,
       "version_minor": 0
      },
      "text/plain": [
       "Running vectorized MCMC with 20 chains:   0%|          | 0/5040 [00:00<?, ?it/s]"
      ]
     },
     "metadata": {},
     "output_type": "display_data"
    },
    {
     "data": {
      "application/vnd.jupyter.widget-view+json": {
       "model_id": "2c720807c4ac4b2f84ce0123d6a9a366",
       "version_major": 2,
       "version_minor": 0
      },
      "text/plain": [
       "Running vectorized MCMC with 20 chains:   0%|          | 0/5040 [00:00<?, ?it/s]"
      ]
     },
     "metadata": {},
     "output_type": "display_data"
    },
    {
     "data": {
      "application/vnd.jupyter.widget-view+json": {
       "model_id": "eee9dc3e491143148105da5d18c8e1ea",
       "version_major": 2,
       "version_minor": 0
      },
      "text/plain": [
       "Running vectorized MCMC with 20 chains:   0%|          | 0/5060 [00:00<?, ?it/s]"
      ]
     },
     "metadata": {},
     "output_type": "display_data"
    },
    {
     "name": "stdout",
     "output_type": "stream",
     "text": [
      " Neural network successfully converged after 75 epochs.."
     ]
    },
    {
     "data": {
      "application/vnd.jupyter.widget-view+json": {
       "model_id": "0eadfeeac49d4d128ea3f3ece099b001",
       "version_major": 2,
       "version_minor": 0
      },
      "text/plain": [
       "Running vectorized MCMC with 20 chains:   0%|          | 0/5040 [00:00<?, ?it/s]"
      ]
     },
     "metadata": {},
     "output_type": "display_data"
    },
    {
     "data": {
      "application/vnd.jupyter.widget-view+json": {
       "model_id": "94063cccbdb64a639b7ac732c3a012c1",
       "version_major": 2,
       "version_minor": 0
      },
      "text/plain": [
       "Running vectorized MCMC with 20 chains:   0%|          | 0/5040 [00:00<?, ?it/s]"
      ]
     },
     "metadata": {},
     "output_type": "display_data"
    },
    {
     "data": {
      "application/vnd.jupyter.widget-view+json": {
       "model_id": "66655b88fa664723995e538be6823b51",
       "version_major": 2,
       "version_minor": 0
      },
      "text/plain": [
       "Running vectorized MCMC with 20 chains:   0%|          | 0/5040 [00:00<?, ?it/s]"
      ]
     },
     "metadata": {},
     "output_type": "display_data"
    },
    {
     "name": "stdout",
     "output_type": "stream",
     "text": [
      " Neural network successfully converged after 23 epochs."
     ]
    }
   ],
   "source": [
    "# Define prior distribution\n",
    "num_dim = 1\n",
    "prior = BoxUniform(low=-8 * th.ones(num_dim), high=8 * th.ones(num_dim))\n",
    "\n",
    "# Check prior, return PyTorch prior.\n",
    "prior, num_parameters, prior_returns_numpy = process_prior(prior)\n",
    "\n",
    "# Check simulator, returns PyTorch simulator able to simulate batches.\n",
    "simulator = process_simulator(gaussian_simulator, prior, prior_returns_numpy)\n",
    "\n",
    "# Consistency check after making ready for sbi.\n",
    "check_sbi_inputs(simulator, prior)\n",
    "\n",
    "n_emulators = 3\n",
    "emulators = [NLE(prior=prior, show_progress_bars=False) for _ in range(n_emulators)]\n",
    "\n",
    "# The specific observation we want to focus the inference on.\n",
    "x_o = th.tensor([2.5])\n",
    "\n",
    "## intital training loop \n",
    "proposal = prior\n",
    "ensemble, posteriors = [], []\n",
    "theta, x = simulate_for_sbi(simulator, proposal, num_simulations=50, show_progress_bar=False)\n",
    "for inference in emulators:\n",
    "    density_estimator = inference.append_simulations(\n",
    "        theta, x\n",
    "    ).train()\n",
    "    posterior = inference.build_posterior(density_estimator)\n",
    "    ensemble.append(posterior)\n",
    "    \n",
    "ensemble_posterior = EnsemblePosterior(ensemble)\n",
    "proposal = ensemble_posterior.set_default_x(x_o)\n",
    "posteriors.append(ensemble_posterior)\n",
    "\n",
    "## active learning loop \n",
    "AL_rounds = 10 \n",
    "AL_samples = 10\n",
    "for _ in range(AL_rounds):\n",
    "    # generate samples from proposal \n",
    "    theta_prop = proposal.sample((100,))\n",
    "    # find the prob of each theta, under the posteriors\n",
    "    likelihood_matrix = np.array([e.log_prob(theta_prop, x_o).numpy() for e in ensemble])\n",
    "    # chose theta from proposal sample with the most variance in the prob estimate\n",
    "    theta_star = theta_prop[np.argmax(likelihood_matrix.var(axis=0))]\n",
    "    # simulate new data  \n",
    "    x = gaussian_simulator(theta_star, n=AL_samples)\n",
    "    x = th.Tensor(x).unsqueeze(-1)\n",
    "    theta_star = th.Tensor(theta_star.repeat(AL_samples)).unsqueeze(-1)\n",
    "    # train the ensemble with new data\n",
    "    ensemble = []\n",
    "    for inference in emulators:\n",
    "        density_estimator = inference.append_simulations(\n",
    "            theta_star, x\n",
    "        ).train()\n",
    "        posterior = inference.build_posterior(density_estimator)\n",
    "        ensemble.append(posterior)\n",
    "        \n",
    "    ensemble_posterior = EnsemblePosterior(ensemble)\n",
    "    proposal = ensemble_posterior.set_default_x(x_o)\n",
    "    posteriors.append(ensemble_posterior)\n"
   ]
  },
  {
   "cell_type": "code",
   "execution_count": 37,
   "id": "f76cc938-656f-45f1-8282-4be603504ea2",
   "metadata": {},
   "outputs": [
    {
     "data": {
      "application/vnd.jupyter.widget-view+json": {
       "model_id": "b0907e5250b74708883d769964d22d5e",
       "version_major": 2,
       "version_minor": 0
      },
      "text/plain": [
       "Running vectorized MCMC with 20 chains:   0%|          | 0/15000 [00:00<?, ?it/s]"
      ]
     },
     "metadata": {},
     "output_type": "display_data"
    },
    {
     "data": {
      "text/plain": [
       "<matplotlib.patches.StepPatch at 0x2a7a28d00>"
      ]
     },
     "execution_count": 37,
     "metadata": {},
     "output_type": "execute_result"
    },
    {
     "data": {
      "image/png": "[encoded data removed]",
      "text/plain": [
       "<Figure size 400x400 with 1 Axes>"
      ]
     },
     "metadata": {},
     "output_type": "display_data"
    }
   ],
   "source": [
    "samples = posterior.sample((10000,), x=x_obs)\n",
    "\n",
    "fig, ax = plt.subplots(figsize=(4, 4))\n",
    "counts, bins = np.histogram(samples, bins=50)\n",
    "plt.stairs(counts, bins)"
   ]
  },
  {
   "cell_type": "code",
   "execution_count": 19,
   "id": "1f7ea3f2-3117-4c63-9454-951f93a24d2d",
   "metadata": {},
   "outputs": [
    {
     "data": {
      "application/vnd.jupyter.widget-view+json": {
       "model_id": "36add4b726944524ad0c5b73c2d125b1",
       "version_major": 2,
       "version_minor": 0
      },
      "text/plain": [
       "Running vectorized MCMC with 20 chains:   0%|          | 0/5020 [00:00<?, ?it/s]"
      ]
     },
     "metadata": {},
     "output_type": "display_data"
    },
    {
     "data": {
      "application/vnd.jupyter.widget-view+json": {
       "model_id": "b64799cb83ac4dfaaa73d286932b843f",
       "version_major": 2,
       "version_minor": 0
      },
      "text/plain": [
       "Running vectorized MCMC with 20 chains:   0%|          | 0/5020 [00:00<?, ?it/s]"
      ]
     },
     "metadata": {},
     "output_type": "display_data"
    },
    {
     "data": {
      "application/vnd.jupyter.widget-view+json": {
       "model_id": "78562775c8fd4fabb4db97982508eec4",
       "version_major": 2,
       "version_minor": 0
      },
      "text/plain": [
       "Running vectorized MCMC with 20 chains:   0%|          | 0/5020 [00:00<?, ?it/s]"
      ]
     },
     "metadata": {},
     "output_type": "display_data"
    }
   ],
   "source": [
    "theta, x = simulate_for_sbi(simulator, proposal, num_simulations=50, show_progress_bar=False)\n"
   ]
  },
  {
   "cell_type": "code",
   "execution_count": 26,
   "id": "aa4aae04-e699-431b-b39b-c5520532d9e2",
   "metadata": {},
   "outputs": [
    {
     "data": {
      "text/plain": [
       "tensor([[-4.2152],\n",
       "        [-4.2152],\n",
       "        [-4.2152],\n",
       "        [-4.2152],\n",
       "        [-4.2152],\n",
       "        [-4.2152],\n",
       "        [-4.2152],\n",
       "        [-4.2152],\n",
       "        [-4.2152],\n",
       "        [-4.2152]])"
      ]
     },
     "execution_count": 26,
     "metadata": {},
     "output_type": "execute_result"
    }
   ],
   "source": [
    "theta_star.unsqueeze(-1)"
   ]
  },
  {
   "cell_type": "code",
   "execution_count": 5,
   "id": "3e00e37a-e737-4473-b193-d5c730105406",
   "metadata": {},
   "outputs": [
    {
     "data": {
      "application/vnd.jupyter.widget-view+json": {
       "model_id": "9cc771550c2143fdba834061bae7d445",
       "version_major": 2,
       "version_minor": 0
      },
      "text/plain": [
       "Running vectorized MCMC with 20 chains:   0%|          | 0/5040 [00:00<?, ?it/s]"
      ]
     },
     "metadata": {},
     "output_type": "display_data"
    },
    {
     "data": {
      "application/vnd.jupyter.widget-view+json": {
       "model_id": "82b3bdde6a364514a215a72a2a6fe6fb",
       "version_major": 2,
       "version_minor": 0
      },
      "text/plain": [
       "Running vectorized MCMC with 20 chains:   0%|          | 0/5040 [00:00<?, ?it/s]"
      ]
     },
     "metadata": {},
     "output_type": "display_data"
    },
    {
     "data": {
      "application/vnd.jupyter.widget-view+json": {
       "model_id": "f9f5d4eebc7446c2896cf481b9a6af06",
       "version_major": 2,
       "version_minor": 0
      },
      "text/plain": [
       "Running vectorized MCMC with 20 chains:   0%|          | 0/5040 [00:00<?, ?it/s]"
      ]
     },
     "metadata": {},
     "output_type": "display_data"
    },
    {
     "name": "stderr",
     "output_type": "stream",
     "text": [
      "/var/folders/f3/d5xwhmfs3tz1mx_rvf_24qb80000gn/T/ipykernel_61286/335765035.py:7: UserWarning: `.log_prob()` is deprecated for methods that can only evaluate the log-probability up to a normalizing constant. Use `.potential()` instead.\n",
      "  likelihood_matrix = np.array([e.log_prob(theta_prop).numpy() for e in ensemble])\n",
      "/var/folders/f3/d5xwhmfs3tz1mx_rvf_24qb80000gn/T/ipykernel_61286/335765035.py:7: UserWarning: The log-probability is unnormalized!\n",
      "  likelihood_matrix = np.array([e.log_prob(theta_prop).numpy() for e in ensemble])\n"
     ]
    }
   ],
   "source": [
    "## active learning loop \n",
    "#for _ in n_active_learning_rounds:\n",
    "\n",
    "# sample from proposal / prior \n",
    "theta_prop = proposal.sample((100,))\n",
    "# the the the prob of each theta, under the posteriors\n",
    "likelihood_matrix = np.array([e.log_prob(theta_prop).numpy() for e in ensemble])\n",
    "# chose theta from proposal sample with the most variance in the prob estimate\n",
    "theta_star = theta_prop[np.argmax(likelihood_matrix.var(axis=0))]\n",
    "# simulate new data \n",
    "x = gaussian_simulator(theta_star, n=10)\n",
    "x, theta_star = th.Tensor(x), th.Tensor(theta_star)"
   ]
  },
  {
   "cell_type": "code",
   "execution_count": 14,
   "id": "415c98d7-8a17-4001-b2d4-ffab9a45c6c5",
   "metadata": {},
   "outputs": [
    {
     "data": {
      "text/plain": [
       "array([-8.5693153 , -7.89822306, -6.14954856, -8.74342297, -8.34449166,\n",
       "       -7.24833112, -8.59953615, -7.63688883, -8.86949658, -7.69864307])"
      ]
     },
     "execution_count": 14,
     "metadata": {},
     "output_type": "execute_result"
    }
   ],
   "source": [
    "x = gaussian_simulator(theta_star, n=10)\n",
    "x, theta_star = th.Tensor(x), th.Tensor(theta_star)"
   ]
  },
  {
   "cell_type": "code",
   "execution_count": 10,
   "id": "c7603c45-8308-43c2-b1e1-9b4e3df3b8a7",
   "metadata": {},
   "outputs": [
    {
     "ename": "ValueError",
     "evalue": "Output size (1,) is not compatible with broadcast dimensions of inputs (5,).",
     "output_type": "error",
     "traceback": [
      "\u001b[0;31m---------------------------------------------------------------------------\u001b[0m",
      "\u001b[0;31mValueError\u001b[0m                                Traceback (most recent call last)",
      "Cell \u001b[0;32mIn[10], line 1\u001b[0m\n\u001b[0;32m----> 1\u001b[0m \u001b[43mgaussian_simulator\u001b[49m\u001b[43m(\u001b[49m\u001b[43mtheta_star\u001b[49m\u001b[38;5;241;43m.\u001b[39;49m\u001b[43mrepeat\u001b[49m\u001b[43m(\u001b[49m\u001b[38;5;241;43m5\u001b[39;49m\u001b[43m)\u001b[49m\u001b[43m)\u001b[49m\n",
      "File \u001b[0;32m~/Desktop/code/research/goncalves-lab/emulator-networks/src/emnets/simulator.py:17\u001b[0m, in \u001b[0;36mgaussian_simulator\u001b[0;34m(theta, n, cov)\u001b[0m\n\u001b[1;32m     15\u001b[0m \u001b[38;5;28;01mdef\u001b[39;00m \u001b[38;5;21mgaussian_simulator\u001b[39m(theta, n\u001b[38;5;241m=\u001b[39m\u001b[38;5;241m1\u001b[39m, cov\u001b[38;5;241m=\u001b[39m\u001b[38;5;241m.99\u001b[39m):\n\u001b[1;32m     16\u001b[0m     f \u001b[38;5;241m=\u001b[39m \u001b[38;5;28;01mlambda\u001b[39;00m t : (\u001b[38;5;241m1.5\u001b[39m \u001b[38;5;241m*\u001b[39m t)\u001b[38;5;241m*\u001b[39m\u001b[38;5;241m*\u001b[39m\u001b[38;5;241m3\u001b[39m \u001b[38;5;241m/\u001b[39m \u001b[38;5;241m200\u001b[39m\n\u001b[0;32m---> 17\u001b[0m     x \u001b[38;5;241m=\u001b[39m \u001b[43mnp\u001b[49m\u001b[38;5;241;43m.\u001b[39;49m\u001b[43mrandom\u001b[49m\u001b[38;5;241;43m.\u001b[39;49m\u001b[43mnormal\u001b[49m\u001b[43m(\u001b[49m\u001b[43mloc\u001b[49m\u001b[38;5;241;43m=\u001b[39;49m\u001b[43mf\u001b[49m\u001b[43m(\u001b[49m\u001b[43mtheta\u001b[49m\u001b[43m)\u001b[49m\u001b[43m,\u001b[49m\u001b[43m \u001b[49m\u001b[43mscale\u001b[49m\u001b[38;5;241;43m=\u001b[39;49m\u001b[43mcov\u001b[49m\u001b[43m,\u001b[49m\u001b[43m \u001b[49m\u001b[43msize\u001b[49m\u001b[38;5;241;43m=\u001b[39;49m\u001b[43mn\u001b[49m\u001b[43m)\u001b[49m\n\u001b[1;32m     18\u001b[0m     \u001b[38;5;28;01mreturn\u001b[39;00m x\n",
      "File \u001b[0;32mnumpy/random/mtrand.pyx:1557\u001b[0m, in \u001b[0;36mnumpy.random.mtrand.RandomState.normal\u001b[0;34m()\u001b[0m\n",
      "File \u001b[0;32m_common.pyx:600\u001b[0m, in \u001b[0;36mnumpy.random._common.cont\u001b[0;34m()\u001b[0m\n",
      "File \u001b[0;32m_common.pyx:518\u001b[0m, in \u001b[0;36mnumpy.random._common.cont_broadcast_2\u001b[0;34m()\u001b[0m\n",
      "File \u001b[0;32m_common.pyx:245\u001b[0m, in \u001b[0;36mnumpy.random._common.validate_output_shape\u001b[0;34m()\u001b[0m\n",
      "\u001b[0;31mValueError\u001b[0m: Output size (1,) is not compatible with broadcast dimensions of inputs (5,)."
     ]
    }
   ],
   "source": [
    "gaussian_simulator(theta_star.repeat(5))"
   ]
  },
  {
   "cell_type": "code",
   "execution_count": 7,
   "id": "4acd81df-1d67-430c-8dc9-d97660fe0802",
   "metadata": {},
   "outputs": [
    {
     "data": {
      "application/vnd.jupyter.widget-view+json": {
       "model_id": "eb60d157ec4d41b9995ad3caa0495d2f",
       "version_major": 2,
       "version_minor": 0
      },
      "text/plain": [
       "Running vectorized MCMC with 20 chains:   0%|          | 0/5040 [00:00<?, ?it/s]"
      ]
     },
     "metadata": {},
     "output_type": "display_data"
    },
    {
     "data": {
      "application/vnd.jupyter.widget-view+json": {
       "model_id": "c8482707af274159986710dc5e50270f",
       "version_major": 2,
       "version_minor": 0
      },
      "text/plain": [
       "Running vectorized MCMC with 20 chains:   0%|          | 0/5040 [00:00<?, ?it/s]"
      ]
     },
     "metadata": {},
     "output_type": "display_data"
    },
    {
     "data": {
      "application/vnd.jupyter.widget-view+json": {
       "model_id": "f82232fd60364743b3f89905f5263e45",
       "version_major": 2,
       "version_minor": 0
      },
      "text/plain": [
       "Running vectorized MCMC with 20 chains:   0%|          | 0/5040 [00:00<?, ?it/s]"
      ]
     },
     "metadata": {},
     "output_type": "display_data"
    }
   ],
   "source": [
    "t = proposal.sample((100,))"
   ]
  },
  {
   "cell_type": "code",
   "execution_count": 20,
   "id": "1732dc78-46b3-483e-8e95-a2ef5465536d",
   "metadata": {},
   "outputs": [
    {
     "data": {
      "application/vnd.jupyter.widget-view+json": {
       "model_id": "f7bfafc63c0347eca3fc69b9727fe7c1",
       "version_major": 2,
       "version_minor": 0
      },
      "text/plain": [
       "Running vectorized MCMC with 20 chains:   0%|          | 0/5040 [00:00<?, ?it/s]"
      ]
     },
     "metadata": {},
     "output_type": "display_data"
    },
    {
     "data": {
      "application/vnd.jupyter.widget-view+json": {
       "model_id": "378bd001e29645d2a491a5b0e90f8f39",
       "version_major": 2,
       "version_minor": 0
      },
      "text/plain": [
       "Running vectorized MCMC with 20 chains:   0%|          | 0/5040 [00:00<?, ?it/s]"
      ]
     },
     "metadata": {},
     "output_type": "display_data"
    },
    {
     "data": {
      "application/vnd.jupyter.widget-view+json": {
       "model_id": "84743879e2a943acb4738adc32062760",
       "version_major": 2,
       "version_minor": 0
      },
      "text/plain": [
       "Running vectorized MCMC with 20 chains:   0%|          | 0/5040 [00:00<?, ?it/s]"
      ]
     },
     "metadata": {},
     "output_type": "display_data"
    },
    {
     "name": "stderr",
     "output_type": "stream",
     "text": [
      "/var/folders/f3/d5xwhmfs3tz1mx_rvf_24qb80000gn/T/ipykernel_58434/3502978051.py:2: UserWarning: `.log_prob()` is deprecated for methods that can only evaluate the log-probability up to a normalizing constant. Use `.potential()` instead.\n",
      "  likelihood_matrix = np.array([e.log_prob(thetas).numpy() for e in ensemble])\n",
      "/var/folders/f3/d5xwhmfs3tz1mx_rvf_24qb80000gn/T/ipykernel_58434/3502978051.py:2: UserWarning: The log-probability is unnormalized!\n",
      "  likelihood_matrix = np.array([e.log_prob(thetas).numpy() for e in ensemble])\n"
     ]
    },
    {
     "data": {
      "text/plain": [
       "tensor([-4.7881])"
      ]
     },
     "execution_count": 20,
     "metadata": {},
     "output_type": "execute_result"
    }
   ],
   "source": [
    "thetas = proposal.sample((100,))\n",
    "likelihood_matrix = np.array([e.log_prob(thetas).numpy() for e in ensemble])\n",
    "theta_star = thetas[np.argmax(likelihood_matrix.var(axis=0))]\n",
    "\n",
    "\n",
    "theta_star"
   ]
  },
  {
   "cell_type": "code",
   "execution_count": 21,
   "id": "21f602c4-dbb8-42b1-8892-c0dfef65645b",
   "metadata": {},
   "outputs": [
    {
     "ename": "AssertionError",
     "evalue": "Theta must have a batch dimension.",
     "output_type": "error",
     "traceback": [
      "\u001b[0;31m---------------------------------------------------------------------------\u001b[0m",
      "\u001b[0;31mAssertionError\u001b[0m                            Traceback (most recent call last)",
      "Cell \u001b[0;32mIn[21], line 1\u001b[0m\n\u001b[0;32m----> 1\u001b[0m \u001b[43msimulator\u001b[49m\u001b[43m(\u001b[49m\u001b[43mtheta_star\u001b[49m\u001b[43m)\u001b[49m\n",
      "File \u001b[0;32m~/miniconda3/envs/sbi_env/lib/python3.9/site-packages/sbi/utils/user_input_checks.py:551\u001b[0m, in \u001b[0;36mget_batch_loop_simulator.<locals>.batch_loop_simulator\u001b[0;34m(theta)\u001b[0m\n\u001b[1;32m    549\u001b[0m \u001b[38;5;28;01mdef\u001b[39;00m \u001b[38;5;21mbatch_loop_simulator\u001b[39m(theta: Tensor) \u001b[38;5;241m-\u001b[39m\u001b[38;5;241m>\u001b[39m Tensor:\n\u001b[1;32m    550\u001b[0m \u001b[38;5;250m    \u001b[39m\u001b[38;5;124;03m\"\"\"Return a batch of simulations by looping over a batch of parameters.\"\"\"\u001b[39;00m\n\u001b[0;32m--> 551\u001b[0m     \u001b[38;5;28;01massert\u001b[39;00m theta\u001b[38;5;241m.\u001b[39mndim \u001b[38;5;241m>\u001b[39m \u001b[38;5;241m1\u001b[39m, \u001b[38;5;124m\"\u001b[39m\u001b[38;5;124mTheta must have a batch dimension.\u001b[39m\u001b[38;5;124m\"\u001b[39m\n\u001b[1;32m    552\u001b[0m     \u001b[38;5;66;03m# Simulate in loop\u001b[39;00m\n\u001b[1;32m    553\u001b[0m     xs \u001b[38;5;241m=\u001b[39m \u001b[38;5;28mlist\u001b[39m(\u001b[38;5;28mmap\u001b[39m(simulator, theta))\n",
      "\u001b[0;31mAssertionError\u001b[0m: Theta must have a batch dimension."
     ]
    }
   ],
   "source": [
    "simulator(theta_star)"
   ]
  },
  {
   "cell_type": "code",
   "execution_count": null,
   "id": "efc672d4-1c41-4497-bfd1-0dd766f42e7e",
   "metadata": {},
   "outputs": [],
   "source": []
  },
  {
   "cell_type": "code",
   "execution_count": null,
   "id": "1b032482-9445-4d5f-960a-178ad086e558",
   "metadata": {},
   "outputs": [],
   "source": []
  },
  {
   "cell_type": "code",
   "execution_count": null,
   "id": "3a210bfc-15c8-4ea5-9dac-c10e6e7a8a05",
   "metadata": {},
   "outputs": [],
   "source": []
  },
  {
   "cell_type": "code",
   "execution_count": null,
   "id": "9dd309de-06be-459d-a9fb-e88e3796a369",
   "metadata": {},
   "outputs": [],
   "source": []
  },
  {
   "cell_type": "code",
   "execution_count": null,
   "id": "180238c3-f32e-4dcb-a453-f6e2e8525edf",
   "metadata": {},
   "outputs": [],
   "source": []
  },
  {
   "cell_type": "code",
   "execution_count": 4,
   "id": "b0f047ee-20bd-4171-8467-323a5ec0b2e5",
   "metadata": {},
   "outputs": [
    {
     "name": "stderr",
     "output_type": "stream",
     "text": [
      "/Users/hayden/miniconda3/envs/sbi_env/lib/python3.9/site-packages/sbi/neural_nets/net_builders/flow.py:141: UserWarning: In one-dimensional output space, this flow is limited to Gaussians\n",
      "  x_numel = get_numel(\n"
     ]
    },
    {
     "name": "stdout",
     "output_type": "stream",
     "text": [
      " Neural network successfully converged after 307 epochs."
     ]
    },
    {
     "name": "stderr",
     "output_type": "stream",
     "text": [
      "/Users/hayden/miniconda3/envs/sbi_env/lib/python3.9/site-packages/sbi/inference/posteriors/mcmc_posterior.py:115: UserWarning: The default value for thinning in MCMC sampling has been changed from 10 to 1. This might cause the results differ from the last benchmark.\n",
      "  thin = _process_thin_default(thin)\n"
     ]
    },
    {
     "data": {
      "application/vnd.jupyter.widget-view+json": {
       "model_id": "a4e6b2ede332401ea3be6e07a9f541f6",
       "version_major": 2,
       "version_minor": 0
      },
      "text/plain": [
       "Running vectorized MCMC with 20 chains:   0%|          | 0/15000 [00:00<?, ?it/s]"
      ]
     },
     "metadata": {},
     "output_type": "display_data"
    },
    {
     "data": {
      "text/plain": [
       "<matplotlib.patches.StepPatch at 0x292dcff70>"
      ]
     },
     "execution_count": 4,
     "metadata": {},
     "output_type": "execute_result"
    },
    {
     "data": {
      "image/png": "[encoded data removed]",
      "text/plain": [
       "<Figure size 400x400 with 1 Axes>"
      ]
     },
     "metadata": {},
     "output_type": "display_data"
    }
   ],
   "source": [
    "num_dim = 1\n",
    "prior = BoxUniform(low=-8 * th.ones(num_dim), high=8 * th.ones(num_dim))\n",
    "\n",
    "# Check prior, return PyTorch prior.\n",
    "prior, num_parameters, prior_returns_numpy = process_prior(prior)\n",
    "\n",
    "# Check simulator, returns PyTorch simulator able to simulate batches.\n",
    "simulator = process_simulator(gaussian_simulator, prior, prior_returns_numpy)\n",
    "\n",
    "# Consistency check after making ready for sbi.\n",
    "check_sbi_inputs(simulator, prior)\n",
    "\n",
    "inference = NLE(prior=prior)\n",
    "\n",
    "num_simulations = 100\n",
    "theta = prior.sample((num_simulations,))\n",
    "x = simulator(theta)\n",
    "\n",
    "inference = inference.append_simulations(theta, x)\n",
    "density_estimator = inference.train()\n",
    "\n",
    "posterior = inference.build_posterior(density_estimator)\n",
    "\n",
    "samples = posterior.sample((10000,), x=x_obs)\n",
    "\n",
    "fig, ax = plt.subplots(figsize=(4, 4))\n",
    "counts, bins = np.histogram(samples, bins=50)\n",
    "plt.stairs(counts, bins)"
   ]
  },
  {
   "cell_type": "code",
   "execution_count": 14,
   "id": "3287b8fc-b0bf-4b65-b8b1-93870e1265d4",
   "metadata": {},
   "outputs": [
    {
     "name": "stderr",
     "output_type": "stream",
     "text": [
      "/var/folders/f3/d5xwhmfs3tz1mx_rvf_24qb80000gn/T/ipykernel_58200/2957125430.py:4: UserWarning: `.log_prob()` is deprecated for methods that can only evaluate the log-probability up to a normalizing constant. Use `.potential()` instead.\n",
      "  posterior.log_prob(theta, x)\n",
      "/var/folders/f3/d5xwhmfs3tz1mx_rvf_24qb80000gn/T/ipykernel_58200/2957125430.py:4: UserWarning: The log-probability is unnormalized!\n",
      "  posterior.log_prob(theta, x)\n"
     ]
    },
    {
     "data": {
      "text/plain": [
       "tensor([-3.8163])"
      ]
     },
     "execution_count": 14,
     "metadata": {},
     "output_type": "execute_result"
    }
   ],
   "source": [
    "theta = prior.sample((1,))\n",
    "x = simulator(theta)\n",
    "\n",
    "posterior.log_prob(theta, x)"
   ]
  },
  {
   "cell_type": "code",
   "execution_count": 6,
   "id": "c68eedcd-3a5b-4f28-aae7-095f75515920",
   "metadata": {},
   "outputs": [
    {
     "data": {
      "text/plain": [
       "<matplotlib.patches.StepPatch at 0x28ebd5220>"
      ]
     },
     "execution_count": 6,
     "metadata": {},
     "output_type": "execute_result"
    },
    {
     "data": {
      "image/png": "[encoded data removed]",
      "text/plain": [
       "<Figure size 640x480 with 1 Axes>"
      ]
     },
     "metadata": {},
     "output_type": "display_data"
    }
   ],
   "source": [
    "counts, bins = np.histogram(samples, bins=40)\n",
    "plt.stairs(counts, bins)"
   ]
  },
  {
   "cell_type": "code",
   "execution_count": 10,
   "id": "354c718d-0043-4a65-9056-10bf9ba295ed",
   "metadata": {},
   "outputs": [
    {
     "data": {
      "text/plain": [
       "<matplotlib.patches.StepPatch at 0x175763a60>"
      ]
     },
     "execution_count": 10,
     "metadata": {},
     "output_type": "execute_result"
    },
    {
     "data": {
      "image/png": "[encoded data removed]",
      "text/plain": [
       "<Figure size 400x400 with 1 Axes>"
      ]
     },
     "metadata": {},
     "output_type": "display_data"
    }
   ],
   "source": [
    "fig, ax = plt.subplots(figsize=(4, 4))\n",
    "counts, bins = np.histogram(samples, bins=100)\n",
    "plt.stairs(counts, bins)"
   ]
  },
  {
   "cell_type": "code",
   "execution_count": 5,
   "id": "1905aff1-0c07-40ba-913b-6daab7ed47cb",
   "metadata": {},
   "outputs": [],
   "source": [
    "inference = NLE(prior=prior)"
   ]
  },
  {
   "cell_type": "code",
   "execution_count": 6,
   "id": "bf0df758-a13c-4a85-963d-a4d6c0e1e356",
   "metadata": {},
   "outputs": [
    {
     "name": "stdout",
     "output_type": "stream",
     "text": [
      "theta.shape torch.Size([100, 1])\n",
      "x.shape torch.Size([100, 1])\n"
     ]
    }
   ],
   "source": [
    "num_simulations = 100\n",
    "theta = prior.sample((num_simulations,))\n",
    "x = simulator(theta)\n",
    "print(\"theta.shape\", theta.shape)\n",
    "print(\"x.shape\", x.shape)"
   ]
  },
  {
   "cell_type": "code",
   "execution_count": 7,
   "id": "c32b6a1e-32cb-4bea-81f6-3ffe0a20bb09",
   "metadata": {},
   "outputs": [],
   "source": [
    "inference = inference.append_simulations(theta, x)"
   ]
  },
  {
   "cell_type": "code",
   "execution_count": 8,
   "id": "aa85c4ca-8732-4fae-a7a0-8d1e51114c0c",
   "metadata": {},
   "outputs": [
    {
     "name": "stderr",
     "output_type": "stream",
     "text": [
      "/Users/hayden/miniconda3/envs/sbi_env/lib/python3.9/site-packages/sbi/neural_nets/net_builders/flow.py:141: UserWarning: In one-dimensional output space, this flow is limited to Gaussians\n",
      "  x_numel = get_numel(\n"
     ]
    },
    {
     "name": "stdout",
     "output_type": "stream",
     "text": [
      " Neural network successfully converged after 51 epochs."
     ]
    }
   ],
   "source": [
    "density_estimator = inference.train()"
   ]
  },
  {
   "cell_type": "code",
   "execution_count": 9,
   "id": "c508b8a7-710c-4b41-af8f-c0c834ac523a",
   "metadata": {},
   "outputs": [
    {
     "name": "stdout",
     "output_type": "stream",
     "text": [
      "Posterior p(θ|x) of type MCMCPosterior. It provides MCMC to .sample() from the posterior and can evaluate the _unnormalized_ posterior density with .log_prob().\n"
     ]
    },
    {
     "name": "stderr",
     "output_type": "stream",
     "text": [
      "/Users/hayden/miniconda3/envs/sbi_env/lib/python3.9/site-packages/sbi/inference/posteriors/mcmc_posterior.py:115: UserWarning: The default value for thinning in MCMC sampling has been changed from 10 to 1. This might cause the results differ from the last benchmark.\n",
      "  thin = _process_thin_default(thin)\n"
     ]
    }
   ],
   "source": [
    "posterior = inference.build_posterior(density_estimator)\n",
    "\n",
    "print(posterior) # prints how the posterior was trained"
   ]
  },
  {
   "cell_type": "code",
   "execution_count": 10,
   "id": "e34e6702-9d66-4c29-a1a6-3760a52373b1",
   "metadata": {},
   "outputs": [],
   "source": [
    "#theta_true = prior.sample((1,))\n",
    "# generate our observation\n",
    "#x_obs = simulator(theta_true)"
   ]
  },
  {
   "cell_type": "code",
   "execution_count": 13,
   "id": "42c9fdcc-5573-49f3-9e23-9ecd74474309",
   "metadata": {},
   "outputs": [
    {
     "data": {
      "application/vnd.jupyter.widget-view+json": {
       "model_id": "8117fc1ec47d49c0bf961eb035e18b29",
       "version_major": 2,
       "version_minor": 0
      },
      "text/plain": [
       "Running vectorized MCMC with 20 chains:   0%|          | 0/15000 [00:00<?, ?it/s]"
      ]
     },
     "metadata": {},
     "output_type": "display_data"
    },
    {
     "data": {
      "image/png": "[encoded data removed]",
      "text/plain": [
       "<Figure size 400x400 with 1 Axes>"
      ]
     },
     "metadata": {},
     "output_type": "display_data"
    }
   ],
   "source": [
    "samples = posterior.sample((10000,), x=x_obs)\n",
    "_ = pairplot(samples,\n",
    "             limits=[[-12, 12], [-12, 12], [-12, 12]],\n",
    "             figsize=(4, 4),\n",
    "             labels=[r\"$\\theta_1$\"])"
   ]
  },
  {
   "cell_type": "code",
   "execution_count": 34,
   "id": "ae594f79-f9f7-43a9-8c09-d3856c771e38",
   "metadata": {},
   "outputs": [
    {
     "name": "stdout",
     "output_type": "stream",
     "text": [
      " Neural network successfully converged after 57 epochs.."
     ]
    },
    {
     "data": {
      "application/vnd.jupyter.widget-view+json": {
       "model_id": "8fff4c3024c64555bb8284d8d6986971",
       "version_major": 2,
       "version_minor": 0
      },
      "text/plain": [
       "Running vectorized MCMC with 20 chains:   0%|          | 0/5060 [00:00<?, ?it/s]"
      ]
     },
     "metadata": {},
     "output_type": "display_data"
    },
    {
     "name": "stdout",
     "output_type": "stream",
     "text": [
      " Neural network successfully converged after 159 epochs."
     ]
    },
    {
     "data": {
      "application/vnd.jupyter.widget-view+json": {
       "model_id": "21d1ce818cfa40d8918d12702abe8828",
       "version_major": 2,
       "version_minor": 0
      },
      "text/plain": [
       "Running vectorized MCMC with 20 chains:   0%|          | 0/5060 [00:00<?, ?it/s]"
      ]
     },
     "metadata": {},
     "output_type": "display_data"
    },
    {
     "name": "stdout",
     "output_type": "stream",
     "text": [
      " Neural network successfully converged after 41 epochs.."
     ]
    },
    {
     "data": {
      "application/vnd.jupyter.widget-view+json": {
       "model_id": "eaf5a996ea4d44cba9d969d72e6d51fb",
       "version_major": 2,
       "version_minor": 0
      },
      "text/plain": [
       "Running vectorized MCMC with 20 chains:   0%|          | 0/5060 [00:00<?, ?it/s]"
      ]
     },
     "metadata": {},
     "output_type": "display_data"
    },
    {
     "name": "stdout",
     "output_type": "stream",
     "text": [
      " Neural network successfully converged after 38 epochs."
     ]
    },
    {
     "data": {
      "application/vnd.jupyter.widget-view+json": {
       "model_id": "9efad32cac9a4e38bfea632b8d61fce9",
       "version_major": 2,
       "version_minor": 0
      },
      "text/plain": [
       "Running vectorized MCMC with 20 chains:   0%|          | 0/5060 [00:00<?, ?it/s]"
      ]
     },
     "metadata": {},
     "output_type": "display_data"
    },
    {
     "name": "stdout",
     "output_type": "stream",
     "text": [
      " Neural network successfully converged after 22 epochs."
     ]
    },
    {
     "data": {
      "application/vnd.jupyter.widget-view+json": {
       "model_id": "e788b1031a75475b96c00f220957ed31",
       "version_major": 2,
       "version_minor": 0
      },
      "text/plain": [
       "Running vectorized MCMC with 20 chains:   0%|          | 0/5060 [00:00<?, ?it/s]"
      ]
     },
     "metadata": {},
     "output_type": "display_data"
    },
    {
     "name": "stdout",
     "output_type": "stream",
     "text": [
      " Neural network successfully converged after 56 epochs."
     ]
    },
    {
     "data": {
      "application/vnd.jupyter.widget-view+json": {
       "model_id": "2c8a3b7e9da5461f974a9efbdc6f50d5",
       "version_major": 2,
       "version_minor": 0
      },
      "text/plain": [
       "Running vectorized MCMC with 20 chains:   0%|          | 0/5060 [00:00<?, ?it/s]"
      ]
     },
     "metadata": {},
     "output_type": "display_data"
    },
    {
     "name": "stdout",
     "output_type": "stream",
     "text": [
      " Neural network successfully converged after 33 epochs."
     ]
    },
    {
     "data": {
      "application/vnd.jupyter.widget-view+json": {
       "model_id": "ad7e1a74a82b400d8601021633237168",
       "version_major": 2,
       "version_minor": 0
      },
      "text/plain": [
       "Running vectorized MCMC with 20 chains:   0%|          | 0/5060 [00:00<?, ?it/s]"
      ]
     },
     "metadata": {},
     "output_type": "display_data"
    },
    {
     "name": "stdout",
     "output_type": "stream",
     "text": [
      " Neural network successfully converged after 28 epochs."
     ]
    },
    {
     "data": {
      "application/vnd.jupyter.widget-view+json": {
       "model_id": "635a032534d24ffe924be04be877f7f9",
       "version_major": 2,
       "version_minor": 0
      },
      "text/plain": [
       "Running vectorized MCMC with 20 chains:   0%|          | 0/5060 [00:00<?, ?it/s]"
      ]
     },
     "metadata": {},
     "output_type": "display_data"
    },
    {
     "name": "stdout",
     "output_type": "stream",
     "text": [
      " Neural network successfully converged after 21 epochs."
     ]
    },
    {
     "data": {
      "application/vnd.jupyter.widget-view+json": {
       "model_id": "5431d0c8b5094409b55de07a0508ff60",
       "version_major": 2,
       "version_minor": 0
      },
      "text/plain": [
       "Running vectorized MCMC with 20 chains:   0%|          | 0/5060 [00:00<?, ?it/s]"
      ]
     },
     "metadata": {},
     "output_type": "display_data"
    },
    {
     "name": "stdout",
     "output_type": "stream",
     "text": [
      " Neural network successfully converged after 26 epochs."
     ]
    },
    {
     "data": {
      "application/vnd.jupyter.widget-view+json": {
       "model_id": "2872dfd5c9d44b529d83ad9b592b22b7",
       "version_major": 2,
       "version_minor": 0
      },
      "text/plain": [
       "Running vectorized MCMC with 20 chains:   0%|          | 0/8340 [00:00<?, ?it/s]"
      ]
     },
     "metadata": {},
     "output_type": "display_data"
    },
    {
     "data": {
      "application/vnd.jupyter.widget-view+json": {
       "model_id": "0bea0ce551ff4ba98bafab55593cbb12",
       "version_major": 2,
       "version_minor": 0
      },
      "text/plain": [
       "Running vectorized MCMC with 20 chains:   0%|          | 0/8380 [00:00<?, ?it/s]"
      ]
     },
     "metadata": {},
     "output_type": "display_data"
    },
    {
     "data": {
      "application/vnd.jupyter.widget-view+json": {
       "model_id": "672feb0018ee485994ed4d547728c49c",
       "version_major": 2,
       "version_minor": 0
      },
      "text/plain": [
       "Running vectorized MCMC with 20 chains:   0%|          | 0/8320 [00:00<?, ?it/s]"
      ]
     },
     "metadata": {},
     "output_type": "display_data"
    },
    {
     "data": {
      "image/png": "[encoded data removed]",
      "text/plain": [
       "<Figure size 400x400 with 1 Axes>"
      ]
     },
     "metadata": {},
     "output_type": "display_data"
    }
   ],
   "source": [
    "from sbi.inference.posteriors.ensemble_posterior import EnsemblePosterior\n",
    "from sbi.utils.simulation_utils import simulate_for_sbi\n",
    "\n",
    "\n",
    "num_dim = 1\n",
    "prior = BoxUniform(low=-8 * th.ones(num_dim), high=8 * th.ones(num_dim))\n",
    "\n",
    "# Check prior, return PyTorch prior.\n",
    "prior, num_parameters, prior_returns_numpy = process_prior(prior)\n",
    "\n",
    "# Check simulator, returns PyTorch simulator able to simulate batches.\n",
    "simulator = process_simulator(gaussian_simulator, prior, prior_returns_numpy)\n",
    "\n",
    "# Consistency check after making ready for sbi.\n",
    "check_sbi_inputs(simulator, prior)\n",
    "\n",
    "n_emulators = 3\n",
    "emulators = [NLE(prior=prior, show_progress_bars=False) for _ in range(n_emulators)]\n",
    "\n",
    "# 2 rounds: first round simulates from the prior, second round simulates parameter set\n",
    "# that were sampled from the obtained posterior.\n",
    "num_rounds = 10\n",
    "# The specific observation we want to focus the inference on.\n",
    "x_o = th.tensor([2.5])\n",
    "\n",
    "posteriors = []\n",
    "proposal = prior\n",
    "\n",
    "for _ in range(num_rounds):\n",
    "    ensemble = []\n",
    "    theta, x = simulate_for_sbi(simulator, proposal, num_simulations=50, show_progress_bar=False)\n",
    "    # In `SNLE` and `SNRE`, you should not pass the `proposal` to `.append_simulations()`\n",
    "    for inference in emulators:\n",
    "        density_estimator = inference.append_simulations(\n",
    "            theta, x\n",
    "        ).train()\n",
    "        posterior = inference.build_posterior(density_estimator)\n",
    "        ensemble.append(posterior)\n",
    "    ensemble_posterior = EnsemblePosterior(ensemble)\n",
    "    proposal = posterior.set_default_x(x_o)\n",
    "    posteriors.append(ensemble_posterior)\n",
    "\n",
    "samples = ensemble_posterior.sample((10000,), x=x_obs)\n",
    "_ = pairplot(samples,\n",
    "             limits=[[-12, 12], [-12, 12], [-12, 12]],\n",
    "             figsize=(4, 4),\n",
    "             labels=[r\"$\\theta_1$\"])"
   ]
  },
  {
   "cell_type": "code",
   "execution_count": 35,
   "id": "a30fa8b9-d6a2-4334-aeb3-cce5a07d11e3",
   "metadata": {},
   "outputs": [
    {
     "name": "stdout",
     "output_type": "stream",
     "text": [
      " Neural network successfully converged after 206 epochs."
     ]
    },
    {
     "data": {
      "application/vnd.jupyter.widget-view+json": {
       "model_id": "7ec0a292dcb549d18d59e93736de606a",
       "version_major": 2,
       "version_minor": 0
      },
      "text/plain": [
       "Running vectorized MCMC with 20 chains:   0%|          | 0/15000 [00:00<?, ?it/s]"
      ]
     },
     "metadata": {},
     "output_type": "display_data"
    },
    {
     "data": {
      "image/png": "[encoded data removed]",
      "text/plain": [
       "<Figure size 400x400 with 1 Axes>"
      ]
     },
     "metadata": {},
     "output_type": "display_data"
    }
   ],
   "source": [
    "num_dim = 1\n",
    "prior = BoxUniform(low=-8 * th.ones(num_dim), high=8 * th.ones(num_dim))\n",
    "\n",
    "# Check prior, return PyTorch prior.\n",
    "prior, num_parameters, prior_returns_numpy = process_prior(prior)\n",
    "\n",
    "# Check simulator, returns PyTorch simulator able to simulate batches.\n",
    "simulator = process_simulator(gaussian_simulator, prior, prior_returns_numpy)\n",
    "\n",
    "# Consistency check after making ready for sbi.\n",
    "check_sbi_inputs(simulator, prior)\n",
    "\n",
    "inference = NLE(prior=prior)\n",
    "\n",
    "num_simulations = 50 * 10\n",
    "theta = prior.sample((num_simulations,))\n",
    "x = simulator(theta)\n",
    "\n",
    "inference = inference.append_simulations(theta, x)\n",
    "density_estimator = inference.train()\n",
    "\n",
    "posterior = inference.build_posterior(density_estimator)\n",
    "\n",
    "samples = posterior.sample((10000,), x=x_obs)\n",
    "_ = pairplot(samples,\n",
    "             limits=[[-12, 12], [-12, 12], [-12, 12]],\n",
    "             figsize=(4, 4),\n",
    "             labels=[r\"$\\theta_1$\"])"
   ]
  },
  {
   "cell_type": "code",
   "execution_count": 36,
   "id": "8a7b7a05-8263-419b-837c-8d896683c91c",
   "metadata": {},
   "outputs": [
    {
     "data": {
      "text/plain": [
       "torch.Size([10000, 1])"
      ]
     },
     "execution_count": 36,
     "metadata": {},
     "output_type": "execute_result"
    }
   ],
   "source": [
    "samples.shape"
   ]
  },
  {
   "cell_type": "code",
   "execution_count": 41,
   "id": "433cbe49-2bc1-4992-b1cb-730bc2e5d604",
   "metadata": {},
   "outputs": [
    {
     "data": {
      "text/plain": [
       "<matplotlib.patches.StepPatch at 0x144ca7d90>"
      ]
     },
     "execution_count": 41,
     "metadata": {},
     "output_type": "execute_result"
    },
    {
     "data": {
      "image/png": "[encoded data removed]",
      "text/plain": [
       "<Figure size 640x480 with 1 Axes>"
      ]
     },
     "metadata": {},
     "output_type": "display_data"
    }
   ],
   "source": [
    "counts, bins = np.histogram(x, bins=40)\n",
    "plt.stairs(counts, bins)"
   ]
  },
  {
   "cell_type": "code",
   "execution_count": null,
   "id": "10e0f2cf-c2bb-4afa-8765-2dad6fbcaeaf",
   "metadata": {},
   "outputs": [],
   "source": []
  }
 ],
 "metadata": {
  "kernelspec": {
   "display_name": "sbi",
   "language": "python",
   "name": "sbi_env"
  },
  "language_info": {
   "codemirror_mode": {
    "name": "ipython",
    "version": 3
   },
   "file_extension": ".py",
   "mimetype": "text/x-python",
   "name": "python",
   "nbconvert_exporter": "python",
   "pygments_lexer": "ipython3",
   "version": "3.9.20"
  }
 },
 "nbformat": 4,
 "nbformat_minor": 5
}
