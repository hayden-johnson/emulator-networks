{
 "cells": [
  {
   "cell_type": "code",
   "execution_count": null,
   "id": "ad67d737-a042-454a-9c43-c4f98f9fb244",
   "metadata": {},
   "outputs": [],
   "source": []
  }
 ],
 "metadata": {
  "kernelspec": {
   "display_name": "",
   "name": ""
  },
  "language_info": {
   "name": ""
  }
 },
 "nbformat": 4,
 "nbformat_minor": 5
}
