{
 "cells": [
  {
   "cell_type": "code",
   "execution_count": 1,
   "id": "01d65ee6-34fc-4d8f-9846-d3e2a41c01fa",
   "metadata": {},
   "outputs": [],
   "source": [
    "from simulator import two_moons"
   ]
  },
  {
   "cell_type": "code",
   "execution_count": null,
   "id": "d6dcf554-8640-421f-a96a-88c024f7bd66",
   "metadata": {},
   "outputs": [],
   "source": []
  }
 ],
 "metadata": {
  "kernelspec": {
   "display_name": "Python 3 (ipykernel)",
   "language": "python",
   "name": "python3"
  },
  "language_info": {
   "codemirror_mode": {
    "name": "ipython",
    "version": 3
   },
   "file_extension": ".py",
   "mimetype": "text/x-python",
   "name": "python",
   "nbconvert_exporter": "python",
   "pygments_lexer": "ipython3",
   "version": "3.12.4"
  }
 },
 "nbformat": 4,
 "nbformat_minor": 5
}
