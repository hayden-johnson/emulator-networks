{
 "cells": [
  {
   "cell_type": "code",
   "execution_count": 1,
   "id": "74372241-d73c-4564-b211-2e84a31311f7",
   "metadata": {},
   "outputs": [
    {
     "name": "stderr",
     "output_type": "stream",
     "text": [
      "WARNING (pytensor.tensor.blas): Using NumPy C-API based implementation for BLAS functions.\n"
     ]
    }
   ],
   "source": [
    "import numpy as np\n",
    "import torch as th \n",
    "import matplotlib.pyplot as plt\n",
    "from sbi.inference import NLE\n",
    "from sbi.utils import BoxUniform\n",
    "from sbi.inference.posteriors.ensemble_posterior import EnsemblePosterior\n",
    "from sbi.utils.simulation_utils import simulate_for_sbi\n",
    "from sbi.inference import MCABC\n",
    "from sbibm.metrics import c2st\n",
    "from sbi.utils.user_input_checks import (\n",
    "    check_sbi_inputs,\n",
    "    process_prior,\n",
    "    process_simulator\n",
    ")\n",
    "from emnets.simulator import gaussian_simulator"
   ]
  },
  {
   "cell_type": "code",
   "execution_count": 2,
   "id": "e0168bc2-81ff-43bc-a02f-65ede2851836",
   "metadata": {},
   "outputs": [],
   "source": [
    "def get_posterior_samples(prior, simulator, observation, n_samples=10000):\n",
    "    prior, num_parameters, prior_returns_numpy = process_prior(prior)\n",
    "    simulator = process_simulator(simulator, prior, prior_returns_numpy)\n",
    "    check_sbi_inputs(simulator, prior)\n",
    "    inference_method = MCABC(\n",
    "        simulator=simulator,\n",
    "        prior=prior,\n",
    "        show_progress_bars=False,\n",
    "    )\n",
    "    output, _ = inference_method(\n",
    "        x_o=observation,\n",
    "        num_simulations=n_samples*100,\n",
    "        quantile=.01,\n",
    "        return_summary=True\n",
    "    )\n",
    "    return output"
   ]
  },
  {
   "cell_type": "code",
   "execution_count": 3,
   "id": "afa2c219-62bf-425c-9596-e31990346d6b",
   "metadata": {},
   "outputs": [],
   "source": [
    "# set experiments parameters\n",
    "obs = th.tensor([3])\n",
    "n_sims_init = 10000\n",
    "n_samples = 5000\n",
    "# set prior\n",
    "prior = BoxUniform(low=-8 * th.ones(1), high=8 * th.ones(1))"
   ]
  },
  {
   "cell_type": "code",
   "execution_count": 4,
   "id": "69b5d7cc-e3ab-4755-80f2-cdde5635413b",
   "metadata": {},
   "outputs": [],
   "source": [
    "# validate prior and simulator for sbi \n",
    "prior, num_parameters, prior_returns_numpy = process_prior(prior)\n",
    "simulator = process_simulator(gaussian_simulator, prior, prior_returns_numpy)\n",
    "# use mcmc for ground truth posterior samples \n",
    "mcmc_samples = get_posterior_samples(prior, gaussian_simulator, obs, n_samples=n_samples)\n",
    "# simulate full dataset\n",
    "theta, x = simulate_for_sbi(simulator, prior, num_simulations=n_sims_init, show_progress_bar=False)    "
   ]
  },
  {
   "cell_type": "code",
   "execution_count": 5,
   "id": "f2a9c5ce-b985-477c-a6b1-4d2b609f6274",
   "metadata": {},
   "outputs": [
    {
     "name": "stdout",
     "output_type": "stream",
     "text": [
      " Neural network successfully converged after 62 epochs."
     ]
    },
    {
     "name": "stderr",
     "output_type": "stream",
     "text": [
      "/Users/hayden/miniconda3/envs/sbi_env/lib/python3.9/site-packages/sbi/inference/posteriors/mcmc_posterior.py:115: UserWarning: The default value for thinning in MCMC sampling has been changed from 10 to 1. This might cause the results differ from the last benchmark.\n",
      "  thin = _process_thin_default(thin)\n"
     ]
    },
    {
     "data": {
      "text/plain": [
       "0.5146999955177307"
      ]
     },
     "execution_count": 5,
     "metadata": {},
     "output_type": "execute_result"
    }
   ],
   "source": [
    "inference = NLE(prior=prior, density_estimator='made')\n",
    "density_estimator = inference.append_simulations(theta, x).train(show_train_summary=False)\n",
    "# generate posterior samples\n",
    "posterior = inference.build_posterior(density_estimator)\n",
    "nle_samples = posterior.sample((n_samples,), x=obs, show_progress_bars=False)\n",
    "# compare MCMC with NLE w/ C2ST\n",
    "c2st(nle_samples, mcmc_samples).item()"
   ]
  },
  {
   "cell_type": "code",
   "execution_count": 6,
   "id": "9d5f7081-3528-47ea-9f3a-a298a1749eee",
   "metadata": {},
   "outputs": [
    {
     "data": {
      "image/png": "[encoded data removed]",
      "text/plain": [
       "<Figure size 300x300 with 1 Axes>"
      ]
     },
     "metadata": {},
     "output_type": "display_data"
    }
   ],
   "source": [
    "from sbi.analysis import pairplot\n",
    "\n",
    "pairplot(mcmc_samples, figsize=(3,3))\n",
    "\n",
    "plt.show()"
   ]
  },
  {
   "cell_type": "code",
   "execution_count": 7,
   "id": "35f9d072-6793-4f3d-88d3-668ea851153e",
   "metadata": {},
   "outputs": [
    {
     "data": {
      "image/png": "[encoded data removed]",
      "text/plain": [
       "<Figure size 300x300 with 1 Axes>"
      ]
     },
     "metadata": {},
     "output_type": "display_data"
    }
   ],
   "source": [
    "pairplot(nle_samples, figsize=(3,3))\n",
    "\n",
    "plt.show()"
   ]
  },
  {
   "cell_type": "code",
   "execution_count": 63,
   "id": "3501c677-1292-4147-9899-dcae9b4c654e",
   "metadata": {},
   "outputs": [
    {
     "ename": "NotImplementedError",
     "evalue": "Module [NFlowsFlow] is missing the required \"forward\" function",
     "output_type": "error",
     "traceback": [
      "\u001b[0;31m---------------------------------------------------------------------------\u001b[0m",
      "\u001b[0;31mNotImplementedError\u001b[0m                       Traceback (most recent call last)",
      "Cell \u001b[0;32mIn[63], line 2\u001b[0m\n\u001b[1;32m      1\u001b[0m \u001b[38;5;28;01mwith\u001b[39;00m th\u001b[38;5;241m.\u001b[39mno_grad():\n\u001b[0;32m----> 2\u001b[0m     y \u001b[38;5;241m=\u001b[39m \u001b[43minference\u001b[49m\u001b[38;5;241;43m.\u001b[39;49m\u001b[43m_neural_net\u001b[49m\u001b[38;5;241;43m.\u001b[39;49m\u001b[43mforward\u001b[49m\u001b[43m(\u001b[49m\u001b[43mtheta\u001b[49m\u001b[43m)\u001b[49m\n\u001b[1;32m      4\u001b[0m y\n",
      "File \u001b[0;32m~/miniconda3/envs/sbi_env/lib/python3.9/site-packages/torch/nn/modules/module.py:394\u001b[0m, in \u001b[0;36m_forward_unimplemented\u001b[0;34m(self, *input)\u001b[0m\n\u001b[1;32m    383\u001b[0m \u001b[38;5;28;01mdef\u001b[39;00m \u001b[38;5;21m_forward_unimplemented\u001b[39m(\u001b[38;5;28mself\u001b[39m, \u001b[38;5;241m*\u001b[39m\u001b[38;5;28minput\u001b[39m: Any) \u001b[38;5;241m-\u001b[39m\u001b[38;5;241m>\u001b[39m \u001b[38;5;28;01mNone\u001b[39;00m:\n\u001b[1;32m    384\u001b[0m \u001b[38;5;250m    \u001b[39m\u001b[38;5;124mr\u001b[39m\u001b[38;5;124;03m\"\"\"Define the computation performed at every call.\u001b[39;00m\n\u001b[1;32m    385\u001b[0m \n\u001b[1;32m    386\u001b[0m \u001b[38;5;124;03m    Should be overridden by all subclasses.\u001b[39;00m\n\u001b[0;32m   (...)\u001b[0m\n\u001b[1;32m    392\u001b[0m \u001b[38;5;124;03m        registered hooks while the latter silently ignores them.\u001b[39;00m\n\u001b[1;32m    393\u001b[0m \u001b[38;5;124;03m    \"\"\"\u001b[39;00m\n\u001b[0;32m--> 394\u001b[0m     \u001b[38;5;28;01mraise\u001b[39;00m \u001b[38;5;167;01mNotImplementedError\u001b[39;00m(\n\u001b[1;32m    395\u001b[0m         \u001b[38;5;124mf\u001b[39m\u001b[38;5;124m'\u001b[39m\u001b[38;5;124mModule [\u001b[39m\u001b[38;5;132;01m{\u001b[39;00m\u001b[38;5;28mtype\u001b[39m(\u001b[38;5;28mself\u001b[39m)\u001b[38;5;241m.\u001b[39m\u001b[38;5;18m__name__\u001b[39m\u001b[38;5;132;01m}\u001b[39;00m\u001b[38;5;124m] is missing the required \u001b[39m\u001b[38;5;124m\"\u001b[39m\u001b[38;5;124mforward\u001b[39m\u001b[38;5;124m\"\u001b[39m\u001b[38;5;124m function\u001b[39m\u001b[38;5;124m'\u001b[39m\n\u001b[1;32m    396\u001b[0m     )\n",
      "\u001b[0;31mNotImplementedError\u001b[0m: Module [NFlowsFlow] is missing the required \"forward\" function"
     ]
    }
   ],
   "source": [
    "with th.no_grad():\n",
    "    y = inference._neural_net.forward(theta)\n",
    "\n",
    "y"
   ]
  },
  {
   "cell_type": "code",
   "execution_count": 65,
   "id": "8b61012d-fcf6-4467-8bfe-0fcccf15fd2a",
   "metadata": {},
   "outputs": [
    {
     "data": {
      "text/plain": [
       "NFlowsFlow(\n",
       "  (net): Flow(\n",
       "    (_transform): CompositeTransform(\n",
       "      (_transforms): ModuleList(\n",
       "        (0): PointwiseAffineTransform()\n",
       "        (1): IdentityTransform()\n",
       "      )\n",
       "    )\n",
       "    (_distribution): MultivariateGaussianMDN(\n",
       "      (_hidden_net): Sequential(\n",
       "        (0): Linear(in_features=1, out_features=50, bias=True)\n",
       "        (1): ReLU()\n",
       "        (2): Dropout(p=0.0, inplace=False)\n",
       "        (3): Linear(in_features=50, out_features=50, bias=True)\n",
       "        (4): ReLU()\n",
       "        (5): Linear(in_features=50, out_features=50, bias=True)\n",
       "        (6): ReLU()\n",
       "      )\n",
       "      (_logits_layer): Linear(in_features=50, out_features=10, bias=True)\n",
       "      (_means_layer): Linear(in_features=50, out_features=10, bias=True)\n",
       "      (_unconstrained_diagonal_layer): Linear(in_features=50, out_features=10, bias=True)\n",
       "      (_upper_layer): Linear(in_features=50, out_features=0, bias=True)\n",
       "    )\n",
       "    (_embedding_net): Sequential(\n",
       "      (0): Standardize()\n",
       "      (1): Identity()\n",
       "    )\n",
       "  )\n",
       ")"
      ]
     },
     "execution_count": 65,
     "metadata": {},
     "output_type": "execute_result"
    }
   ],
   "source": [
    "inference._neural_net"
   ]
  },
  {
   "cell_type": "code",
   "execution_count": 9,
   "id": "6eeccc74-7099-4a7f-840a-a8c63af4f497",
   "metadata": {},
   "outputs": [],
   "source": [
    "inference = NLE(prior=prior, density_estimator='made')\n",
    "inference._neural_net"
   ]
  },
  {
   "cell_type": "code",
   "execution_count": 10,
   "id": "66536171-fecc-423f-b1b2-e84cf28ffbd1",
   "metadata": {},
   "outputs": [],
   "source": [
    "inference._neural_net"
   ]
  },
  {
   "cell_type": "code",
   "execution_count": null,
   "id": "3778fba8-7e45-48a4-8c44-20d070a978bc",
   "metadata": {},
   "outputs": [],
   "source": []
  }
 ],
 "metadata": {
  "kernelspec": {
   "display_name": "sbi",
   "language": "python",
   "name": "sbi_env"
  },
  "language_info": {
   "codemirror_mode": {
    "name": "ipython",
    "version": 3
   },
   "file_extension": ".py",
   "mimetype": "text/x-python",
   "name": "python",
   "nbconvert_exporter": "python",
   "pygments_lexer": "ipython3",
   "version": "3.9.20"
  }
 },
 "nbformat": 4,
 "nbformat_minor": 5
}
